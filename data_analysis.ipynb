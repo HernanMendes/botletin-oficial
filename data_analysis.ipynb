{
 "cells": [
  {
   "cell_type": "code",
   "execution_count": 2,
   "metadata": {},
   "outputs": [],
   "source": [
    "import pandas as pd"
   ]
  },
  {
   "cell_type": "code",
   "execution_count": 7,
   "metadata": {},
   "outputs": [],
   "source": [
    "scoring_columns = ['social', 'economic', 'sustainable', 'politic']"
   ]
  },
  {
   "cell_type": "code",
   "execution_count": 4,
   "metadata": {},
   "outputs": [],
   "source": [
    "\n",
    "data = pd.read_csv('data.csv', delimiter='|', encoding='latin_1')"
   ]
  },
  {
   "cell_type": "code",
   "execution_count": 9,
   "metadata": {},
   "outputs": [],
   "source": [
    "data['total_score'] = data[scoring_columns].sum(axis=1)"
   ]
  },
  {
   "cell_type": "code",
   "execution_count": 15,
   "metadata": {},
   "outputs": [
    {
     "name": "stdout",
     "output_type": "stream",
     "text": [
      "(6, 10)\n",
      "Argentina recibirá un préstamo de USD 350 millones del BID para el \"Programa de Apoyo a Políticas Públicas para el Crecimiento Sostenible y Resiliente de Argentina II\", con el objetivo de fortalecer la acción climática, impulsar la economía circular y desarrollar finanzas sostenibles. #BID #Argentina #CrecimientoSostenible #FinanzasSostenibles\n",
      "El Ministerio de Ambiente y Desarrollo Sostenible aprobó la Estrategia de Desarrollo Resiliente con Bajas Emisiones a Largo Plazo al 2050 y creó el Programa Nacional de Escenarios de Largo Plazo para su implementación. La medida busca reducir la vulnerabilidad y aumentar la resiliencia ante el cambio climático en Argentina. #CambioClimático #DesarrolloSostenible #Argentina #2050\n",
      "El Ministerio de Ambiente y Desarrollo Sostenible aprobó la Licitación Pública Internacional para el diseño, construcción y operación del Centro Ambiental Santiago del Estero, con el objetivo de disminuir la disposición de residuos sólidos urbanos en basurales a cielo abierto y aumentar la disposición adecuada en rellenos sanitarios. La empresa EVA S.A. fue adjudicada por un monto de $5.772.479.530,56 y USD 6.484.749,97. #Ambiente #ResiduosSólidos #Sustentabilidad #Argentina\n",
      "El Ministerio de Economía aprobó la celebración de un contrato para el transporte de gas natural por el Gasoducto Presidente Néstor Kirchner entre ENARSA y CAMMESA. Lo recaudado por ENARSA será destinado exclusivamente a la expansión del gasoducto. #Gasoducto #TransportedeGas #Economía #Argentina\n",
      "La Secretaría de Energía adjudicó volúmenes de gas natural a través de un concurso público nacional y aprobó el modelo de contrato entre PETROMINERA CHUBUT SOCIEDAD DEL ESTADO y CAMMESA. #Energía #GasNatural #ConcursoPúblico #Adjudicación\n",
      "El Ministerio de Economía aprobó el Reglamento Operativo del \"Programa de Apoyo a MiPyMEs para la Transformación Digital hacia Industria 4.0\" financiado por el BID por USD 80 millones. La Subsecretaría de la Pequeña y Mediana Empresa estará a cargo de la coordinación general del Programa y de la ejecución técnica del mismo. #economía #MiPyMEs #BID #industria4.0\n"
     ]
    }
   ],
   "source": [
    "print(data[data.total_score >=2].shape)\n",
    "\n",
    "for summary in data[data.total_score >=2].summary.tolist():\n",
    "    print(summary)"
   ]
  },
  {
   "cell_type": "code",
   "execution_count": 17,
   "metadata": {},
   "outputs": [
    {
     "name": "stdout",
     "output_type": "stream",
     "text": [
      "Argentina recibirá un préstamo de USD 350 millones del BID para el \"Programa de Apoyo a Políticas Públicas para el Crecimiento Sostenible y Resiliente de Argentina II\", con el objetivo de fortalecer la acción climática, impulsar la economía circular y desarrollar finanzas sostenibles. #BID #Argentina #CrecimientoSostenible #FinanzasSostenibles\n",
      "El Ministerio de Ambiente y Desarrollo Sostenible aprobó la Estrategia de Desarrollo Resiliente con Bajas Emisiones a Largo Plazo al 2050 y creó el Programa Nacional de Escenarios de Largo Plazo para su implementación. La medida busca reducir la vulnerabilidad y aumentar la resiliencia ante el cambio climático en Argentina. #CambioClimático #DesarrolloSostenible #Argentina #2050\n",
      "El Ministerio de Ambiente y Desarrollo Sostenible aprobó la Licitación Pública Internacional para el diseño, construcción y operación del Centro Ambiental Santiago del Estero, con el objetivo de disminuir la disposición de residuos sólidos urbanos en basurales a cielo abierto y aumentar la disposición adecuada en rellenos sanitarios. La empresa EVA S.A. fue adjudicada por un monto de $5.772.479.530,56 y USD 6.484.749,97. #Ambiente #ResiduosSólidos #Sustentabilidad #Argentina\n"
     ]
    }
   ],
   "source": [
    "for summary in data[data.sustainable == 1].summary.tolist():\n",
    "    print(summary)"
   ]
  },
  {
   "cell_type": "code",
   "execution_count": null,
   "metadata": {},
   "outputs": [],
   "source": []
  }
 ],
 "metadata": {
  "kernelspec": {
   "display_name": ".venv",
   "language": "python",
   "name": "python3"
  },
  "language_info": {
   "codemirror_mode": {
    "name": "ipython",
    "version": 3
   },
   "file_extension": ".py",
   "mimetype": "text/x-python",
   "name": "python",
   "nbconvert_exporter": "python",
   "pygments_lexer": "ipython3",
   "version": "3.8.5"
  },
  "orig_nbformat": 4
 },
 "nbformat": 4,
 "nbformat_minor": 2
}
