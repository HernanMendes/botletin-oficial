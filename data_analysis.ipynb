{
 "cells": [
  {
   "cell_type": "code",
   "execution_count": 1,
   "metadata": {},
   "outputs": [],
   "source": [
    "import pandas as pd"
   ]
  },
  {
   "cell_type": "code",
   "execution_count": 7,
   "metadata": {},
   "outputs": [],
   "source": [
    "scoring_columns = ['social', 'economic', 'sustainable', 'politic']"
   ]
  },
  {
   "cell_type": "code",
   "execution_count": 2,
   "metadata": {},
   "outputs": [],
   "source": [
    "\n",
    "data = pd.read_csv('data.csv', delimiter='|', encoding='latin_1')"
   ]
  },
  {
   "cell_type": "code",
   "execution_count": 7,
   "metadata": {},
   "outputs": [
    {
     "data": {
      "text/plain": [
       "['El doctor Eduardo Rafael RIGGI renuncia al cargo de JUEZ DE LA CÁMARA FEDERAL DE CASACIÓN PENAL, SALA III, debido a su edad. La renuncia fue aceptada de acuerdo a la Constitución Nacional. #Justicia #Renuncia #CámaraFederal #Argentina',\n",
       " 'Se aprobó el curso \"CONDUCCIÓN PREVENTIVA Y DEFENSIVA PARA PRINCIPIANTES\" presentado por el CENTRO DE ENTRENAMIENTO DE MANEJO SA en el REGISTRO NACIONAL DE ANTECEDENTES EN EDUCACIÓN Y CAPACITACIÓN VIAL. La aprobación tiene una vigencia de 1 año. #SeguridadVial #EducaciónVial #ConducciónPreventiva\\n\\nDetalles: El curso \"CONDUCCIÓN PREVENTIVA Y DEFENSIVA PARA PRINCIPIANTES\" presentado por el CENTRO DE ENTRENAMIENTO DE MANEJO SA ha sido aprobado y registrado en el REGISTRO NACIONAL DE ANTECEDENTES EN EDUCACIÓN Y CAPACITACIÓN VIAL. La aprobación tiene una vigencia de 1 año a partir de su publicación en el Boletín Oficial. Se recomienda a los interesados en el curso iniciar el trámite de renovación de inscripción con 30 días hábiles de anticipación a su vencimiento. La DIRECCIÓN DE CAPACITACIÓN Y CAMPAÑAS VIALES estará a cargo de realizar auditorías periódicas o permanentes para verificar el cumplimiento de los requisitos establecidos y sugerir la baja del registro en caso de incumplimientos.',\n",
       " 'Se aprobó el curso \"Curso teórico práctico de manejo seguro integrado con higiene y seguridad para auto clase B1 \\x96 5 hs\" presentado por TECNICAR.NET en el Registro Nacional de Antecedentes en Educación y Capacitación Vial. Vigencia de 1 año. #SeguridadVial #EducaciónVial #CapacitaciónVial #TECNICAR.NET',\n",
       " 'La Agencia Nacional de Seguridad Vial prorroga la designación transitoria del Licenciado MAINIERI, Esteban Luis como Director de Estudios en Seguridad de Infraestructura Vial y del Automotor. No se considera relevante desde ningún punto de vista social, económico, ecológico, sustentable, político, para el ciudadano común o para el trabajador promedio. No expande ni vulnera ningún derecho primordial. Puntuación: 0/100.',\n",
       " 'Se aprobó el curso \"Curso teórico práctico de reeducación vial integrado con higiene y seguridad para infractores viales\" presentado por TECNICAR.NET en el Registro Nacional de Antecedentes en Educación y Capacitación Vial. Vigencia de 1 año. #SeguridadVial #EducaciónVial #CapacitaciónVial #InfractoresViales\\n\\nDetalles: El curso \"Curso teórico práctico de reeducación vial integrado con higiene y seguridad para infractores viales\" presentado por TECNICAR.NET ha sido aprobado y registrado en el Registro Nacional de Antecedentes en Educación y Capacitación Vial. La aprobación tiene una vigencia de 1 año a partir de su publicación en el Boletín Oficial. Se recomienda a los interesados iniciar el trámite de renovación de inscripción con 30 días hábiles de anticipación al vencimiento. La DIRECCIÓN DE CAPACITACIÓN Y CAMPAÑAS VIALES realizará auditorías periódicas para verificar el cumplimiento de los requisitos establecidos.',\n",
       " 'La Administración Nacional de Medicamentos, Alimentos y Tecnología Médica (ANMAT) establece nuevos aranceles para el mantenimiento de la inscripción en el Registro de Productores y Productos de Tecnología Médica. Los aranceles varían según la clase de producto médico y si es comercializado o no. Más información en el Boletín Oficial.',\n",
       " 'La Administración Nacional de Medicamentos, Alimentos y Tecnología Médica prohíbe la comercialización y distribución de productos médicos falsificados. Se trata de fresas de carburo y diamante sin datos de importador en Argentina. #Salud #ProductosMédicos',\n",
       " 'Se modifica el Régimen de Reemplazos para casos de ausencia o impedimento de la Jefatura de la Agencia N° 13 de la AFIP. Se establece el orden de reemplazantes y se deja sin efecto una disposición anterior. #AFIP #modificación #reemplazos',\n",
       " 'Apruébese el Anexo de la agente de la planta permanente del BANCO NACIONAL DE DATOS GENÉTICOS de conformidad con el IF-2023-43651886-APN-SA#BNDG, en condiciones de percibir la Bonificación por Desempeño Destacado establecida por el artículo 89 del Decreto Nº 2098/2008 - Convenio Colectivo de Trabajo Sectorial del personal del SISTEMA NACIONAL DE EMPLEO PÚBLICO (SINEP), homologado por el Decreto Nº 2098 en fecha 3 de diciembre de 2008 y sus modificatorios, correspondiente a las funciones simples del período 2022.',\n",
       " 'Se modifica el Régimen de Reemplazos para casos de ausencia o impedimento de la Jefatura de la Agencia N° 12 de la Dirección Regional Sur - AFIP - DGI. Se establecen los reemplazantes correspondientes. #AFIP #modificación #reemplazos\\n\\nDetalles: La Dirección Regional Sur de la AFIP modifica el Régimen de Reemplazos para casos de ausencia o impedimento de la Jefatura de la Agencia N° 12. Se establecen los reemplazantes en el siguiente orden: 1° Gustavo Daniel SURACE, 2° Silvia Andrea HASAN, 3° Jorge Alberto SALGADO.']"
      ]
     },
     "execution_count": 7,
     "metadata": {},
     "output_type": "execute_result"
    }
   ],
   "source": [
    "data.sort_values(by='score').summary.tolist()[:10]"
   ]
  },
  {
   "cell_type": "code",
   "execution_count": 9,
   "metadata": {},
   "outputs": [],
   "source": [
    "data['total_score'] = data[scoring_columns].sum(axis=1)"
   ]
  },
  {
   "cell_type": "code",
   "execution_count": 15,
   "metadata": {},
   "outputs": [
    {
     "name": "stdout",
     "output_type": "stream",
     "text": [
      "(6, 10)\n",
      "Argentina recibirá un préstamo de USD 350 millones del BID para el \"Programa de Apoyo a Políticas Públicas para el Crecimiento Sostenible y Resiliente de Argentina II\", con el objetivo de fortalecer la acción climática, impulsar la economía circular y desarrollar finanzas sostenibles. #BID #Argentina #CrecimientoSostenible #FinanzasSostenibles\n",
      "El Ministerio de Ambiente y Desarrollo Sostenible aprobó la Estrategia de Desarrollo Resiliente con Bajas Emisiones a Largo Plazo al 2050 y creó el Programa Nacional de Escenarios de Largo Plazo para su implementación. La medida busca reducir la vulnerabilidad y aumentar la resiliencia ante el cambio climático en Argentina. #CambioClimático #DesarrolloSostenible #Argentina #2050\n",
      "El Ministerio de Ambiente y Desarrollo Sostenible aprobó la Licitación Pública Internacional para el diseño, construcción y operación del Centro Ambiental Santiago del Estero, con el objetivo de disminuir la disposición de residuos sólidos urbanos en basurales a cielo abierto y aumentar la disposición adecuada en rellenos sanitarios. La empresa EVA S.A. fue adjudicada por un monto de $5.772.479.530,56 y USD 6.484.749,97. #Ambiente #ResiduosSólidos #Sustentabilidad #Argentina\n",
      "El Ministerio de Economía aprobó la celebración de un contrato para el transporte de gas natural por el Gasoducto Presidente Néstor Kirchner entre ENARSA y CAMMESA. Lo recaudado por ENARSA será destinado exclusivamente a la expansión del gasoducto. #Gasoducto #TransportedeGas #Economía #Argentina\n",
      "La Secretaría de Energía adjudicó volúmenes de gas natural a través de un concurso público nacional y aprobó el modelo de contrato entre PETROMINERA CHUBUT SOCIEDAD DEL ESTADO y CAMMESA. #Energía #GasNatural #ConcursoPúblico #Adjudicación\n",
      "El Ministerio de Economía aprobó el Reglamento Operativo del \"Programa de Apoyo a MiPyMEs para la Transformación Digital hacia Industria 4.0\" financiado por el BID por USD 80 millones. La Subsecretaría de la Pequeña y Mediana Empresa estará a cargo de la coordinación general del Programa y de la ejecución técnica del mismo. #economía #MiPyMEs #BID #industria4.0\n"
     ]
    }
   ],
   "source": [
    "print(data[data.total_score >=2].shape)\n",
    "\n",
    "for summary in data[data.total_score >=2].summary.tolist():\n",
    "    print(summary)"
   ]
  },
  {
   "cell_type": "code",
   "execution_count": 17,
   "metadata": {},
   "outputs": [
    {
     "name": "stdout",
     "output_type": "stream",
     "text": [
      "Argentina recibirá un préstamo de USD 350 millones del BID para el \"Programa de Apoyo a Políticas Públicas para el Crecimiento Sostenible y Resiliente de Argentina II\", con el objetivo de fortalecer la acción climática, impulsar la economía circular y desarrollar finanzas sostenibles. #BID #Argentina #CrecimientoSostenible #FinanzasSostenibles\n",
      "El Ministerio de Ambiente y Desarrollo Sostenible aprobó la Estrategia de Desarrollo Resiliente con Bajas Emisiones a Largo Plazo al 2050 y creó el Programa Nacional de Escenarios de Largo Plazo para su implementación. La medida busca reducir la vulnerabilidad y aumentar la resiliencia ante el cambio climático en Argentina. #CambioClimático #DesarrolloSostenible #Argentina #2050\n",
      "El Ministerio de Ambiente y Desarrollo Sostenible aprobó la Licitación Pública Internacional para el diseño, construcción y operación del Centro Ambiental Santiago del Estero, con el objetivo de disminuir la disposición de residuos sólidos urbanos en basurales a cielo abierto y aumentar la disposición adecuada en rellenos sanitarios. La empresa EVA S.A. fue adjudicada por un monto de $5.772.479.530,56 y USD 6.484.749,97. #Ambiente #ResiduosSólidos #Sustentabilidad #Argentina\n"
     ]
    }
   ],
   "source": [
    "for summary in data[data.sustainable == 1].summary.tolist():\n",
    "    print(summary)"
   ]
  },
  {
   "cell_type": "code",
   "execution_count": null,
   "metadata": {},
   "outputs": [],
   "source": []
  }
 ],
 "metadata": {
  "kernelspec": {
   "display_name": ".venv",
   "language": "python",
   "name": "python3"
  },
  "language_info": {
   "codemirror_mode": {
    "name": "ipython",
    "version": 3
   },
   "file_extension": ".py",
   "mimetype": "text/x-python",
   "name": "python",
   "nbconvert_exporter": "python",
   "pygments_lexer": "ipython3",
   "version": "3.8.5"
  },
  "orig_nbformat": 4
 },
 "nbformat": 4,
 "nbformat_minor": 2
}
